{
  "nbformat": 4,
  "nbformat_minor": 0,
  "metadata": {
    "colab": {
      "provenance": []
    },
    "kernelspec": {
      "name": "python3",
      "display_name": "Python 3"
    },
    "language_info": {
      "name": "python"
    }
  },
  "cells": [
    {
      "cell_type": "code",
      "execution_count": 1,
      "metadata": {
        "colab": {
          "base_uri": "https://localhost:8080/"
        },
        "id": "6OLiBiDdX-6j",
        "outputId": "8b84ce41-e548-47ae-daf5-dc35a032347b"
      },
      "outputs": [
        {
          "output_type": "stream",
          "name": "stdout",
          "text": [
            "You can vote\n"
          ]
        }
      ],
      "source": [
        "age = 18\n",
        "\n",
        "if age >= 18:\n",
        "    print(\"You can vote\")\n"
      ]
    },
    {
      "cell_type": "code",
      "source": [
        "marks = 100\n",
        "\n",
        "if marks >= 45:\n",
        "    print(\"Pass\")\n",
        "else:\n",
        "    print(\"Fail\")\n"
      ],
      "metadata": {
        "colab": {
          "base_uri": "https://localhost:8080/"
        },
        "id": "VvmzVJPMYayg",
        "outputId": "8c08ad24-0d64-4012-ad9a-b0b89bf5bc85"
      },
      "execution_count": 2,
      "outputs": [
        {
          "output_type": "stream",
          "name": "stdout",
          "text": [
            "Pass\n"
          ]
        }
      ]
    },
    {
      "cell_type": "code",
      "source": [
        "num = 0\n",
        "\n",
        "if num > 0:\n",
        "    print(\"Positive\")\n",
        "elif num < 0:\n",
        "    print(\"Negative\")\n",
        "else:\n",
        "    print(\"Zero\")\n"
      ],
      "metadata": {
        "colab": {
          "base_uri": "https://localhost:8080/"
        },
        "id": "kL46C8PoYwaY",
        "outputId": "1416f8b6-41f5-4667-e945-dc765ece2344"
      },
      "execution_count": 3,
      "outputs": [
        {
          "output_type": "stream",
          "name": "stdout",
          "text": [
            "Zero\n"
          ]
        }
      ]
    },
    {
      "cell_type": "code",
      "source": [
        "temperature = 30\n",
        "if temperature > 25:\n",
        "    print(\"It's hot outside!\")\n"
      ],
      "metadata": {
        "colab": {
          "base_uri": "https://localhost:8080/"
        },
        "id": "a22nxgJTY_xl",
        "outputId": "943091ae-9e86-4259-e8a2-ada4070a8458"
      },
      "execution_count": 4,
      "outputs": [
        {
          "output_type": "stream",
          "name": "stdout",
          "text": [
            "It's hot outside!\n"
          ]
        }
      ]
    },
    {
      "cell_type": "code",
      "source": [
        "num = 10\n",
        "if num % 2 == 0:\n",
        "    print(\"Even number\")\n",
        "else:\n",
        "    print(\"Odd number\")\n"
      ],
      "metadata": {
        "colab": {
          "base_uri": "https://localhost:8080/"
        },
        "id": "VO119uChZDe3",
        "outputId": "e17ffe2a-3c36-419d-9a4f-563e4f9e8e17"
      },
      "execution_count": 5,
      "outputs": [
        {
          "output_type": "stream",
          "name": "stdout",
          "text": [
            "Even number\n"
          ]
        }
      ]
    },
    {
      "cell_type": "code",
      "source": [
        "score = 75\n",
        "if score >= 90:\n",
        "    print(\"Grade A*\")\n",
        "elif score >= 80:\n",
        "    print(\"Grade A-\")\n",
        "elif score >= 75:\n",
        "    print(\"Grade B\")\n",
        "else:\n",
        "    print(\"Fail\")\n"
      ],
      "metadata": {
        "colab": {
          "base_uri": "https://localhost:8080/"
        },
        "id": "cETw2bBSZIoO",
        "outputId": "090513a5-5313-4e5a-b3a4-f8804fbc78b7"
      },
      "execution_count": 6,
      "outputs": [
        {
          "output_type": "stream",
          "name": "stdout",
          "text": [
            "Grade B\n"
          ]
        }
      ]
    },
    {
      "cell_type": "code",
      "source": [
        "age = 20\n",
        "if age >= 18:\n",
        "    if age >= 21:\n",
        "        print(\"You can drink alcohol\")\n",
        "    else:\n",
        "        print(\"You can vote but can't drink alcohol\")\n",
        "else:\n",
        "    print(\"You are too young\")\n"
      ],
      "metadata": {
        "colab": {
          "base_uri": "https://localhost:8080/"
        },
        "id": "RBB4Y-uKZhI9",
        "outputId": "c1c20569-1e83-49e1-f624-ad0573ca37da"
      },
      "execution_count": 7,
      "outputs": [
        {
          "output_type": "stream",
          "name": "stdout",
          "text": [
            "You can vote but can't drink alcohol\n"
          ]
        }
      ]
    },
    {
      "cell_type": "code",
      "source": [
        "fruits = [\"apple\", \"banana\", \"cherry\"]\n",
        "for fruit in fruits:\n",
        "    print(fruit)\n"
      ],
      "metadata": {
        "colab": {
          "base_uri": "https://localhost:8080/"
        },
        "id": "LftCQ9aHZ9bY",
        "outputId": "9ba4ec17-ec44-46ca-ab44-90f5698e67c1"
      },
      "execution_count": 8,
      "outputs": [
        {
          "output_type": "stream",
          "name": "stdout",
          "text": [
            "apple\n",
            "banana\n",
            "cherry\n"
          ]
        }
      ]
    }
  ]
}