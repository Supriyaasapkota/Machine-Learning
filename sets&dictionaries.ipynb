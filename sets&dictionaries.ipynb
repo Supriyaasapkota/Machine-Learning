{
  "nbformat": 4,
  "nbformat_minor": 0,
  "metadata": {
    "colab": {
      "provenance": []
    },
    "kernelspec": {
      "name": "python3",
      "display_name": "Python 3"
    },
    "language_info": {
      "name": "python"
    }
  },
  "cells": [
    {
      "cell_type": "code",
      "execution_count": 2,
      "metadata": {
        "colab": {
          "base_uri": "https://localhost:8080/"
        },
        "id": "l1iQ-tvEbwDQ",
        "outputId": "d0fdfb2a-d741-41ce-86ae-c2db08ee33e6"
      },
      "outputs": [
        {
          "output_type": "stream",
          "name": "stdout",
          "text": [
            "{'cherry', 'banana', 'apple'}\n"
          ]
        }
      ],
      "source": [
        "\n",
        "fruits = {\"apple\", \"banana\", \"cherry\", \"apple\"}\n",
        "\n",
        "print(fruits) #order vary garxa sets ma"
      ]
    },
    {
      "cell_type": "code",
      "source": [
        "\n",
        "fruits = {\"apple\", \"banana\", \"cherry\", \"apple\"}\n",
        "fruits.add(\"orange\") #add\n",
        "print(fruits)\n"
      ],
      "metadata": {
        "colab": {
          "base_uri": "https://localhost:8080/"
        },
        "id": "b-SXzlIJchGM",
        "outputId": "650177d0-bcab-4cad-e4ff-f1e3aca398e9"
      },
      "execution_count": 3,
      "outputs": [
        {
          "output_type": "stream",
          "name": "stdout",
          "text": [
            "{'cherry', 'banana', 'apple', 'orange'}\n"
          ]
        }
      ]
    },
    {
      "cell_type": "code",
      "source": [
        "fruits = {\"mango\", \"banana\", \"cherry\", \"apple\"}\n",
        "fruits.remove(\"banana\")\n",
        "print(fruits)\n"
      ],
      "metadata": {
        "colab": {
          "base_uri": "https://localhost:8080/"
        },
        "id": "Qaaf7C_VcxRb",
        "outputId": "fced314a-bd2e-4f72-c763-2ff607bae0b1"
      },
      "execution_count": 4,
      "outputs": [
        {
          "output_type": "stream",
          "name": "stdout",
          "text": [
            "{'mango', 'cherry', 'apple'}\n"
          ]
        }
      ]
    },
    {
      "cell_type": "code",
      "source": [
        "# dictionary\n",
        "fruit_colors = {\n",
        "    \"apple\": \"red\",\n",
        "    \"banana\": \"yellow\",\n",
        "    \"cherry\": \"red\"\n",
        "}\n",
        "\n",
        "\n",
        "print(fruit_colors[\"banana\"])\n",
        "\n",
        "fruit_colors[\"orange\"] = \"orange\" #new fruits ra color add\n",
        "\n",
        "\n",
        "fruit_colors[\"apple\"] = \"green\" #apple ko color change gareko\n",
        "\n",
        "print(fruit_colors)\n"
      ],
      "metadata": {
        "colab": {
          "base_uri": "https://localhost:8080/"
        },
        "id": "-0I_a4m6dL5n",
        "outputId": "18dd7d68-4019-4aee-a4f8-ef9edd4bc057"
      },
      "execution_count": 5,
      "outputs": [
        {
          "output_type": "stream",
          "name": "stdout",
          "text": [
            "yellow\n",
            "{'apple': 'green', 'banana': 'yellow', 'cherry': 'red', 'orange': 'orange'}\n"
          ]
        }
      ]
    }
  ]
}