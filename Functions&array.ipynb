{
  "nbformat": 4,
  "nbformat_minor": 0,
  "metadata": {
    "colab": {
      "provenance": []
    },
    "kernelspec": {
      "name": "python3",
      "display_name": "Python 3"
    },
    "language_info": {
      "name": "python"
    }
  },
  "cells": [
    {
      "cell_type": "code",
      "execution_count": 1,
      "metadata": {
        "colab": {
          "base_uri": "https://localhost:8080/"
        },
        "id": "BE1gMNGmeSGc",
        "outputId": "31356f68-1a53-44a8-c2d4-77171d8c1959"
      },
      "outputs": [
        {
          "output_type": "stream",
          "name": "stdout",
          "text": [
            "Hello, Alice!\n"
          ]
        }
      ],
      "source": [
        "\n",
        "def greet(name): #function lai define gareko\n",
        "    print(\"Hello, \" + name + \"!\")\n",
        "\n",
        "\n",
        "greet(\"Alice\")  # function lai call\n"
      ]
    },
    {
      "cell_type": "code",
      "source": [
        "\n",
        "def greet(name):\n",
        "    print(\"Congratulations \" + name + \"!\")\n",
        "\n",
        "greet(\"Supriya\")\n"
      ],
      "metadata": {
        "colab": {
          "base_uri": "https://localhost:8080/"
        },
        "id": "R0C_lLuFeycC",
        "outputId": "bd7146f1-8054-42dd-af73-e046f1393314"
      },
      "execution_count": 3,
      "outputs": [
        {
          "output_type": "stream",
          "name": "stdout",
          "text": [
            "Congratulations Supriya!\n"
          ]
        }
      ]
    },
    {
      "cell_type": "code",
      "source": [
        "def add(a, b):\n",
        "    return a + b\n",
        "\n",
        "result = add(5, 3)\n",
        "print(result)\n"
      ],
      "metadata": {
        "colab": {
          "base_uri": "https://localhost:8080/"
        },
        "id": "YFQo9U3lfSPP",
        "outputId": "023477b1-5f81-4715-c79b-a89c9ae72c91"
      },
      "execution_count": 4,
      "outputs": [
        {
          "output_type": "stream",
          "name": "stdout",
          "text": [
            "8\n"
          ]
        }
      ]
    },
    {
      "cell_type": "code",
      "source": [
        "\n",
        "numbers = [1, 2, 3, 4, 5] #arry create gareko\n",
        "\n",
        "\n",
        "print(numbers[0])  # elements lai create gareko\n",
        "\n",
        "numbers[1] = 10\n",
        "print(numbers)\n",
        "\n",
        "\n",
        "for num in numbers:\n",
        "    print(num)\n"
      ],
      "metadata": {
        "colab": {
          "base_uri": "https://localhost:8080/"
        },
        "id": "1LwCN5D1fdK3",
        "outputId": "0ad92f13-038b-406e-eb79-a3bf34157ccd"
      },
      "execution_count": 5,
      "outputs": [
        {
          "output_type": "stream",
          "name": "stdout",
          "text": [
            "1\n",
            "[1, 10, 3, 4, 5]\n",
            "1\n",
            "10\n",
            "3\n",
            "4\n",
            "5\n"
          ]
        }
      ]
    },
    {
      "cell_type": "code",
      "source": [
        "import array\n",
        "\n",
        "\n",
        "numbers = array.array('i', [1, 2, 3, 4, 5]) #array of integres lai create gareko\n",
        "print(numbers[2])\n",
        "\n",
        "numbers.append(6)\n",
        "print(numbers)\n"
      ],
      "metadata": {
        "colab": {
          "base_uri": "https://localhost:8080/"
        },
        "id": "tBgvInvNfupR",
        "outputId": "3e88d11e-474a-409e-c20c-7b1007c39093"
      },
      "execution_count": 6,
      "outputs": [
        {
          "output_type": "stream",
          "name": "stdout",
          "text": [
            "3\n",
            "array('i', [1, 2, 3, 4, 5, 6])\n"
          ]
        }
      ]
    }
  ]
}